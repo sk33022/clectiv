{
 "cells": [
  {
   "cell_type": "code",
   "execution_count": 1,
   "id": "391db328",
   "metadata": {},
   "outputs": [],
   "source": [
    "# Import necessary libraries\n",
    "import pandas as pd\n",
    "import numpy as np\n",
    "import matplotlib.pyplot as plt\n",
    "import seaborn as sns\n",
    "from sklearn.model_selection import train_test_split\n",
    "from sklearn.ensemble import RandomForestRegressor\n",
    "from sklearn.tree import DecisionTreeClassifier\n",
    "from sklearn.ensemble import IsolationForest\n",
    "from datetime import datetime\n",
    "import ast\n"
   ]
  },
  {
   "cell_type": "code",
   "execution_count": 2,
   "id": "2dc90790",
   "metadata": {},
   "outputs": [
    {
     "data": {
      "text/html": [
       "<div>\n",
       "<style scoped>\n",
       "    .dataframe tbody tr th:only-of-type {\n",
       "        vertical-align: middle;\n",
       "    }\n",
       "\n",
       "    .dataframe tbody tr th {\n",
       "        vertical-align: top;\n",
       "    }\n",
       "\n",
       "    .dataframe thead th {\n",
       "        text-align: right;\n",
       "    }\n",
       "</style>\n",
       "<table border=\"1\" class=\"dataframe\">\n",
       "  <thead>\n",
       "    <tr style=\"text-align: right;\">\n",
       "      <th></th>\n",
       "      <th>creator_id</th>\n",
       "      <th>content_id</th>\n",
       "      <th>license_type</th>\n",
       "      <th>usage_rights</th>\n",
       "      <th>content_platform</th>\n",
       "      <th>revenue_generated</th>\n",
       "      <th>royalty_payout</th>\n",
       "      <th>usage_timestamp</th>\n",
       "      <th>geographic_location</th>\n",
       "      <th>anomaly_flag</th>\n",
       "      <th>engagement_source</th>\n",
       "      <th>content_category</th>\n",
       "      <th>likes</th>\n",
       "      <th>comments</th>\n",
       "    </tr>\n",
       "  </thead>\n",
       "  <tbody>\n",
       "    <tr>\n",
       "      <th>0</th>\n",
       "      <td>CR001</td>\n",
       "      <td>CNT101</td>\n",
       "      <td>Exclusive</td>\n",
       "      <td>Editorial</td>\n",
       "      <td>TikTok</td>\n",
       "      <td>282.63</td>\n",
       "      <td>87.90</td>\n",
       "      <td>2024-09-25 03:29:29.759701</td>\n",
       "      <td>Brisbane, Australia</td>\n",
       "      <td>True</td>\n",
       "      <td>Organic</td>\n",
       "      <td>Video</td>\n",
       "      <td>1804</td>\n",
       "      <td>297</td>\n",
       "    </tr>\n",
       "    <tr>\n",
       "      <th>1</th>\n",
       "      <td>CR002</td>\n",
       "      <td>CNT102</td>\n",
       "      <td>Non-Exclusive</td>\n",
       "      <td>Commercial</td>\n",
       "      <td>Instagram</td>\n",
       "      <td>409.11</td>\n",
       "      <td>311.92</td>\n",
       "      <td>2025-02-12 03:29:29.759736</td>\n",
       "      <td>Melbourne, Australia</td>\n",
       "      <td>True</td>\n",
       "      <td>Organic</td>\n",
       "      <td>Music</td>\n",
       "      <td>606</td>\n",
       "      <td>106</td>\n",
       "    </tr>\n",
       "    <tr>\n",
       "      <th>2</th>\n",
       "      <td>CR003</td>\n",
       "      <td>CNT103</td>\n",
       "      <td>Non-Exclusive</td>\n",
       "      <td>Editorial</td>\n",
       "      <td>TikTok</td>\n",
       "      <td>99.04</td>\n",
       "      <td>842.86</td>\n",
       "      <td>2024-10-25 03:29:29.759741</td>\n",
       "      <td>Perth, Australia</td>\n",
       "      <td>True</td>\n",
       "      <td>Paid</td>\n",
       "      <td>Music</td>\n",
       "      <td>1364</td>\n",
       "      <td>244</td>\n",
       "    </tr>\n",
       "    <tr>\n",
       "      <th>3</th>\n",
       "      <td>CR004</td>\n",
       "      <td>CNT104</td>\n",
       "      <td>Exclusive</td>\n",
       "      <td>Editorial</td>\n",
       "      <td>TikTok</td>\n",
       "      <td>692.30</td>\n",
       "      <td>174.07</td>\n",
       "      <td>2024-05-02 03:29:29.759746</td>\n",
       "      <td>Melbourne, Australia</td>\n",
       "      <td>True</td>\n",
       "      <td>Paid</td>\n",
       "      <td>Music</td>\n",
       "      <td>1525</td>\n",
       "      <td>84</td>\n",
       "    </tr>\n",
       "    <tr>\n",
       "      <th>4</th>\n",
       "      <td>CR005</td>\n",
       "      <td>CNT105</td>\n",
       "      <td>Non-Exclusive</td>\n",
       "      <td>Editorial</td>\n",
       "      <td>YouTube</td>\n",
       "      <td>87.72</td>\n",
       "      <td>558.97</td>\n",
       "      <td>2024-11-03 03:29:29.759751</td>\n",
       "      <td>Melbourne, Australia</td>\n",
       "      <td>False</td>\n",
       "      <td>Paid</td>\n",
       "      <td>Image</td>\n",
       "      <td>1401</td>\n",
       "      <td>48</td>\n",
       "    </tr>\n",
       "  </tbody>\n",
       "</table>\n",
       "</div>"
      ],
      "text/plain": [
       "  creator_id content_id   license_type usage_rights content_platform  \\\n",
       "0      CR001     CNT101      Exclusive    Editorial           TikTok   \n",
       "1      CR002     CNT102  Non-Exclusive   Commercial        Instagram   \n",
       "2      CR003     CNT103  Non-Exclusive    Editorial           TikTok   \n",
       "3      CR004     CNT104      Exclusive    Editorial           TikTok   \n",
       "4      CR005     CNT105  Non-Exclusive    Editorial          YouTube   \n",
       "\n",
       "   revenue_generated  royalty_payout            usage_timestamp  \\\n",
       "0             282.63           87.90 2024-09-25 03:29:29.759701   \n",
       "1             409.11          311.92 2025-02-12 03:29:29.759736   \n",
       "2              99.04          842.86 2024-10-25 03:29:29.759741   \n",
       "3             692.30          174.07 2024-05-02 03:29:29.759746   \n",
       "4              87.72          558.97 2024-11-03 03:29:29.759751   \n",
       "\n",
       "    geographic_location  anomaly_flag engagement_source content_category  \\\n",
       "0   Brisbane, Australia          True           Organic            Video   \n",
       "1  Melbourne, Australia          True           Organic            Music   \n",
       "2      Perth, Australia          True              Paid            Music   \n",
       "3  Melbourne, Australia          True              Paid            Music   \n",
       "4  Melbourne, Australia         False              Paid            Image   \n",
       "\n",
       "   likes  comments  \n",
       "0   1804       297  \n",
       "1    606       106  \n",
       "2   1364       244  \n",
       "3   1525        84  \n",
       "4   1401        48  "
      ]
     },
     "execution_count": 2,
     "metadata": {},
     "output_type": "execute_result"
    }
   ],
   "source": [
    "# Load dataset\n",
    "df = pd.read_csv(\"dummy_content_data.csv\")\n",
    "\n",
    "# Convert usage_timestamp to datetime format\n",
    "df['usage_timestamp'] = pd.to_datetime(df['usage_timestamp'])\n",
    "\n",
    "# Extract 'likes' and 'comments' from engagement_metrics column\n",
    "df['likes'] = df['engagement_metrics'].apply(lambda x: ast.literal_eval(x)['likes'])\n",
    "df['comments'] = df['engagement_metrics'].apply(lambda x: ast.literal_eval(x)['comments'])\n",
    "\n",
    "# Drop original engagement_metrics column\n",
    "df.drop(columns=['engagement_metrics'], inplace=True)\n",
    "\n",
    "# Display cleaned dataset\n",
    "df.head()\n"
   ]
  },
  {
   "cell_type": "code",
   "execution_count": 3,
   "id": "e8766b2a",
   "metadata": {},
   "outputs": [
    {
     "data": {
      "image/png": "[encoded data removed]",
      "text/plain": [
       "<Figure size 1000x600 with 1 Axes>"
      ]
     },
     "metadata": {},
     "output_type": "display_data"
    }
   ],
   "source": [
    "plt.figure(figsize=(10, 6))\n",
    "sns.boxplot(x='content_platform', y='revenue_generated', data=df)\n",
    "plt.title(\"Revenue Distribution by Content Platform\")\n",
    "plt.xticks(rotation=45)\n",
    "plt.show()\n"
   ]
  },
  {
   "cell_type": "code",
   "execution_count": 4,
   "id": "be9be9d9",
   "metadata": {},
   "outputs": [
    {
     "data": {
      "image/png": "[encoded data removed]",
      "text/plain": [
       "<Figure size 800x500 with 1 Axes>"
      ]
     },
     "metadata": {},
     "output_type": "display_data"
    }
   ],
   "source": [
    "plt.figure(figsize=(8, 5))\n",
    "sns.countplot(x='anomaly_flag', data=df)\n",
    "plt.title(\"Distribution of Anomalous Content Usage\")\n",
    "plt.xlabel(\"Anomaly Flag (True = Fraudulent)\")\n",
    "plt.ylabel(\"Count\")\n",
    "plt.show()\n"
   ]
  },
  {
   "cell_type": "code",
   "execution_count": 5,
   "id": "9d9875ca",
   "metadata": {},
   "outputs": [
    {
     "name": "stdout",
     "output_type": "stream",
     "text": [
      "Content Recognition Model Accuracy: 0.00\n"
     ]
    }
   ],
   "source": [
    "# Prepare features and target\n",
    "X = df[['likes', 'comments', 'revenue_generated']]\n",
    "y = df['creator_id']\n",
    "\n",
    "# Split data\n",
    "X_train, X_test, y_train, y_test = train_test_split(X, y, test_size=0.2, random_state=42)\n",
    "\n",
    "# Train Decision Tree Classifier\n",
    "clf = DecisionTreeClassifier()\n",
    "clf.fit(X_train, y_train)\n",
    "\n",
    "# Predict and display accuracy\n",
    "accuracy = clf.score(X_test, y_test)\n",
    "print(f\"Content Recognition Model Accuracy: {accuracy:.2f}\")\n"
   ]
  },
  {
   "cell_type": "code",
   "execution_count": 6,
   "id": "229940b1",
   "metadata": {},
   "outputs": [
    {
     "name": "stderr",
     "output_type": "stream",
     "text": [
      "C:\\Users\\lenovo\\anaconda3\\lib\\site-packages\\sklearn\\base.py:450: UserWarning: X does not have valid feature names, but IsolationForest was fitted with feature names\n",
      "  warnings.warn(\n"
     ]
    },
    {
     "data": {
      "image/png": "[encoded data removed]",
      "text/plain": [
       "<Figure size 800x500 with 1 Axes>"
      ]
     },
     "metadata": {},
     "output_type": "display_data"
    }
   ],
   "source": [
    "# Prepare features for fraud detection\n",
    "X_fraud = df[['likes', 'comments', 'revenue_generated']]\n",
    "\n",
    "# Train Isolation Forest Model\n",
    "iso_forest = IsolationForest(contamination=0.05, random_state=42)\n",
    "df['fraud_score'] = iso_forest.fit_predict(X_fraud)\n",
    "\n",
    "# Visualize Fraud Scores\n",
    "plt.figure(figsize=(8, 5))\n",
    "sns.histplot(df['fraud_score'], bins=10, kde=True)\n",
    "plt.title(\"Fraud Detection Score Distribution\")\n",
    "plt.show()\n"
   ]
  },
  {
   "cell_type": "code",
   "execution_count": 7,
   "id": "c3e7c26e",
   "metadata": {},
   "outputs": [
    {
     "name": "stdout",
     "output_type": "stream",
     "text": [
      "Revenue Prediction Model MAE: 245.55\n"
     ]
    }
   ],
   "source": [
    "# Prepare features and target\n",
    "X_rev = df[['likes', 'comments']]\n",
    "y_rev = df['revenue_generated']\n",
    "\n",
    "# Split data\n",
    "X_train, X_test, y_train, y_test = train_test_split(X_rev, y_rev, test_size=0.2, random_state=42)\n",
    "\n",
    "# Train Random Forest Regressor\n",
    "rf_model = RandomForestRegressor(n_estimators=100, random_state=42)\n",
    "rf_model.fit(X_train, y_train)\n",
    "\n",
    "# Predict revenue\n",
    "y_pred = rf_model.predict(X_test)\n",
    "\n",
    "# Display model performance\n",
    "from sklearn.metrics import mean_absolute_error\n",
    "mae = mean_absolute_error(y_test, y_pred)\n",
    "print(f\"Revenue Prediction Model MAE: {mae:.2f}\")\n"
   ]
  },
  {
   "cell_type": "code",
   "execution_count": 8,
   "id": "069a3a8f",
   "metadata": {},
   "outputs": [],
   "source": [
    "from sklearn.preprocessing import LabelEncoder\n",
    "\n",
    "# Encode categorical columns\n",
    "label_encoder = LabelEncoder()\n",
    "df['creator_id_encoded'] = label_encoder.fit_transform(df['creator_id'])\n",
    "\n",
    "# Prepare updated feature set\n",
    "X = df[['likes', 'comments', 'revenue_generated', 'royalty_payout']]\n",
    "y = df['creator_id_encoded']  # Target variable as numerical labels\n",
    "\n",
    "# Train-test split\n",
    "X_train, X_test, y_train, y_test = train_test_split(X, y, test_size=0.2, random_state=42)\n"
   ]
  },
  {
   "cell_type": "code",
   "execution_count": 9,
   "id": "2f118ed1",
   "metadata": {},
   "outputs": [
    {
     "name": "stdout",
     "output_type": "stream",
     "text": [
      "Updated Content Recognition Model Accuracy: 0.00\n"
     ]
    }
   ],
   "source": [
    "from sklearn.ensemble import RandomForestClassifier\n",
    "from sklearn.metrics import accuracy_score\n",
    "\n",
    "# Train Random Forest Classifier\n",
    "rf_classifier = RandomForestClassifier(n_estimators=100, random_state=42)\n",
    "rf_classifier.fit(X_train, y_train)\n",
    "\n",
    "# Predict and evaluate\n",
    "y_pred = rf_classifier.predict(X_test)\n",
    "accuracy = accuracy_score(y_test, y_pred)\n",
    "print(f\"Updated Content Recognition Model Accuracy: {accuracy:.2f}\")\n"
   ]
  },
  {
   "cell_type": "code",
   "execution_count": 10,
   "id": "3c9de564",
   "metadata": {},
   "outputs": [
    {
     "data": {
      "text/plain": [
       "CR001    1\n",
       "CR330    1\n",
       "CR343    1\n",
       "CR342    1\n",
       "CR341    1\n",
       "        ..\n",
       "CR162    1\n",
       "CR161    1\n",
       "CR160    1\n",
       "CR159    1\n",
       "CR500    1\n",
       "Name: creator_id, Length: 500, dtype: int64"
      ]
     },
     "execution_count": 10,
     "metadata": {},
     "output_type": "execute_result"
    }
   ],
   "source": [
    "df['creator_id'].value_counts()\n"
   ]
  },
  {
   "cell_type": "code",
   "execution_count": 11,
   "id": "1255a0bd",
   "metadata": {},
   "outputs": [],
   "source": [
    "# Encoding categorical features\n",
    "df['content_platform_encoded'] = label_encoder.fit_transform(df['content_platform'])\n",
    "df['content_category_encoded'] = label_encoder.fit_transform(df['content_category'])\n",
    "df['engagement_source_encoded'] = label_encoder.fit_transform(df['engagement_source'])\n"
   ]
  },
  {
   "cell_type": "code",
   "execution_count": 14,
   "id": "2971ad22",
   "metadata": {},
   "outputs": [],
   "source": [
    "from imblearn.over_sampling import RandomOverSampler\n",
    "\n",
    "ros = RandomOverSampler(random_state=42)\n",
    "X_resampled, y_resampled = ros.fit_resample(X, y)\n"
   ]
  },
  {
   "cell_type": "code",
   "execution_count": 13,
   "id": "186cb260",
   "metadata": {},
   "outputs": [
    {
     "name": "stdout",
     "output_type": "stream",
     "text": [
      "Collecting imbalanced-learn\n",
      "  Downloading imbalanced_learn-0.12.4-py3-none-any.whl (258 kB)\n",
      "     -------------------------------------- 258.3/258.3 kB 8.0 MB/s eta 0:00:00\n",
      "Requirement already satisfied: threadpoolctl>=2.0.0 in c:\\users\\lenovo\\anaconda3\\lib\\site-packages (from imbalanced-learn) (2.2.0)\n",
      "Requirement already satisfied: numpy>=1.17.3 in c:\\users\\lenovo\\anaconda3\\lib\\site-packages (from imbalanced-learn) (1.21.5)\n",
      "Requirement already satisfied: scikit-learn>=1.0.2 in c:\\users\\lenovo\\anaconda3\\lib\\site-packages (from imbalanced-learn) (1.0.2)\n",
      "Requirement already satisfied: scipy>=1.5.0 in c:\\users\\lenovo\\anaconda3\\lib\\site-packages (from imbalanced-learn) (1.9.1)\n",
      "Collecting joblib>=1.1.1\n",
      "  Downloading joblib-1.4.2-py3-none-any.whl (301 kB)\n",
      "     -------------------------------------- 301.8/301.8 kB 9.1 MB/s eta 0:00:00\n",
      "Installing collected packages: joblib, imbalanced-learn\n",
      "  Attempting uninstall: joblib\n",
      "    Found existing installation: joblib 1.1.0\n",
      "    Uninstalling joblib-1.1.0:\n",
      "      Successfully uninstalled joblib-1.1.0\n",
      "Successfully installed imbalanced-learn-0.12.4 joblib-1.4.2\n"
     ]
    }
   ],
   "source": [
    "!pip install imbalanced-learn\n"
   ]
  },
  {
   "cell_type": "code",
   "execution_count": null,
   "id": "60d5ecae",
   "metadata": {},
   "outputs": [],
   "source": []
  }
 ],
 "metadata": {
  "kernelspec": {
   "display_name": "Python 3 (ipykernel)",
   "language": "python",
   "name": "python3"
  },
  "language_info": {
   "codemirror_mode": {
    "name": "ipython",
    "version": 3
   },
   "file_extension": ".py",
   "mimetype": "text/x-python",
   "name": "python",
   "nbconvert_exporter": "python",
   "pygments_lexer": "ipython3",
   "version": "3.9.13"
  }
 },
 "nbformat": 4,
 "nbformat_minor": 5
}
